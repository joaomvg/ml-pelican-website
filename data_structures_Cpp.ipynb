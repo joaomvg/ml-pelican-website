{
 "cells": [
  {
   "cell_type": "code",
   "execution_count": 1,
   "metadata": {},
   "outputs": [],
   "source": [
    "#include<iostream>\n"
   ]
  },
  {
   "cell_type": "code",
   "execution_count": 2,
   "metadata": {},
   "outputs": [],
   "source": [
    "using namespace std;"
   ]
  },
  {
   "cell_type": "code",
   "execution_count": 3,
   "metadata": {},
   "outputs": [
    {
     "name": "stdout",
     "output_type": "stream",
     "text": [
      "hello"
     ]
    }
   ],
   "source": [
    "cout<<\"hello\";"
   ]
  },
  {
   "cell_type": "markdown",
   "metadata": {},
   "source": [
    "# Linked List"
   ]
  },
  {
   "cell_type": "code",
   "execution_count": 5,
   "metadata": {},
   "outputs": [],
   "source": [
    "class Node{\n",
    "    public:\n",
    "    int data;\n",
    "    Node *next; //pointer\n",
    "};"
   ]
  },
  {
   "cell_type": "code",
   "execution_count": 6,
   "metadata": {},
   "outputs": [],
   "source": [
    "Node *first=NULL;\n",
    "Node *second=NULL;\n",
    "Node *third=NULL;"
   ]
  },
  {
   "cell_type": "code",
   "execution_count": 7,
   "metadata": {},
   "outputs": [],
   "source": [
    "first=new Node();\n",
    "second=new Node();\n",
    "third=new Node();"
   ]
  },
  {
   "cell_type": "code",
   "execution_count": 8,
   "metadata": {},
   "outputs": [
    {
     "name": "stdout",
     "output_type": "stream",
     "text": [
      "0x7f9bd1ceba70"
     ]
    },
    {
     "data": {
      "text/plain": [
       "@0x105953ff0"
      ]
     },
     "execution_count": 8,
     "metadata": {},
     "output_type": "execute_result"
    }
   ],
   "source": [
    "cout<<first"
   ]
  },
  {
   "cell_type": "code",
   "execution_count": 9,
   "metadata": {},
   "outputs": [],
   "source": [
    "(*first).data=1;\n",
    "(*second).data=2;\n",
    "(*third).data=3;"
   ]
  },
  {
   "cell_type": "code",
   "execution_count": 10,
   "metadata": {},
   "outputs": [
    {
     "data": {
      "text/plain": [
       "1"
      ]
     },
     "execution_count": 10,
     "metadata": {},
     "output_type": "execute_result"
    }
   ],
   "source": [
    "first->data"
   ]
  },
  {
   "cell_type": "code",
   "execution_count": 11,
   "metadata": {},
   "outputs": [],
   "source": [
    "first->next=second;\n",
    "second->next=third;"
   ]
  },
  {
   "cell_type": "code",
   "execution_count": 12,
   "metadata": {},
   "outputs": [
    {
     "name": "stdout",
     "output_type": "stream",
     "text": [
      "1\n",
      "2\n",
      "3\n"
     ]
    }
   ],
   "source": [
    "Node *p=first;\n",
    "while(p!=NULL){\n",
    "    cout<<p->data<<endl;\n",
    "    p=p->next;\n",
    "}"
   ]
  },
  {
   "cell_type": "markdown",
   "metadata": {},
   "source": [
    "# Binary Search Tree (BST)"
   ]
  },
  {
   "cell_type": "code",
   "execution_count": 13,
   "metadata": {},
   "outputs": [
    {
     "name": "stdout",
     "output_type": "stream",
     "text": [
      "0"
     ]
    }
   ],
   "source": [
    "cout<<(NULL);"
   ]
  },
  {
   "cell_type": "code",
   "execution_count": 9,
   "metadata": {},
   "outputs": [],
   "source": [
    "class nodeT{\n",
    "    public:\n",
    "    int data;\n",
    "    nodeT *left=NULL;\n",
    "    nodeT *right=NULL;\n",
    "    nodeT(int val){\n",
    "        data=val;\n",
    "    }\n",
    "};"
   ]
  },
  {
   "cell_type": "code",
   "execution_count": 11,
   "metadata": {},
   "outputs": [],
   "source": [
    "nodeT *insert(nodeT *root,int value){\n",
    "    if(root==NULL){\n",
    "        nodeT *pt;\n",
    "        pt=new nodeT(value);\n",
    "        root=pt;\n",
    "        }\n",
    "    else{\n",
    "        if(value>root->data){\n",
    "            root->right=insert(root->right,value);\n",
    "        }\n",
    "        else if(value<root->data){\n",
    "            root->left=insert(root->left,value);\n",
    "            }\n",
    "        }\n",
    "    \n",
    "    return root;\n",
    "}"
   ]
  },
  {
   "cell_type": "code",
   "execution_count": 16,
   "metadata": {},
   "outputs": [],
   "source": [
    "nodeT *search(nodeT *root,int n){\n",
    "    if(root==NULL || root->data==n)\n",
    "        return root;\n",
    "\n",
    "    if(n>root->data)\n",
    "        return search(root->right,n);\n",
    "    \n",
    "    return search(root->left,n);\n",
    "}"
   ]
  },
  {
   "cell_type": "code",
   "execution_count": 13,
   "metadata": {},
   "outputs": [],
   "source": [
    "nodeT nd(1);"
   ]
  },
  {
   "cell_type": "code",
   "execution_count": 14,
   "metadata": {},
   "outputs": [
    {
     "data": {
      "text/plain": [
       "1"
      ]
     },
     "execution_count": 14,
     "metadata": {},
     "output_type": "execute_result"
    }
   ],
   "source": [
    "nd.data"
   ]
  },
  {
   "cell_type": "code",
   "execution_count": 15,
   "metadata": {},
   "outputs": [],
   "source": [
    "insert(&nd,2);"
   ]
  },
  {
   "cell_type": "code",
   "execution_count": 16,
   "metadata": {},
   "outputs": [
    {
     "data": {
      "text/plain": [
       "2"
      ]
     },
     "execution_count": 16,
     "metadata": {},
     "output_type": "execute_result"
    }
   ],
   "source": [
    "nd.right->data"
   ]
  },
  {
   "cell_type": "markdown",
   "metadata": {},
   "source": [
    "# Stack"
   ]
  },
  {
   "cell_type": "markdown",
   "metadata": {},
   "source": [
    "#### single linked list"
   ]
  },
  {
   "cell_type": "code",
   "execution_count": 1,
   "metadata": {},
   "outputs": [],
   "source": [
    "class NodeS{\n",
    "    public:\n",
    "    int data;\n",
    "    NodeS *next=NULL;\n",
    "    NodeS(int val){\n",
    "        data=val;\n",
    "    }\n",
    "};"
   ]
  },
  {
   "cell_type": "code",
   "execution_count": 2,
   "metadata": {},
   "outputs": [],
   "source": [
    "class Stack{\n",
    "    public:\n",
    "    NodeS *head;\n",
    "    \n",
    "    Stack(int val){\n",
    "        head=new NodeS(val);\n",
    "    }\n",
    "    \n",
    "    NodeS *push(int val){\n",
    "        NodeS *pt=new NodeS(val);\n",
    "        if(head==NULL){\n",
    "            head=pt;\n",
    "            return head;\n",
    "        }else{\n",
    "            pt->next=head;\n",
    "            head=pt;\n",
    "            return head;\n",
    "        }\n",
    "    }\n",
    "};"
   ]
  },
  {
   "cell_type": "code",
   "execution_count": 3,
   "metadata": {},
   "outputs": [],
   "source": [
    "Stack stack(1);"
   ]
  },
  {
   "cell_type": "code",
   "execution_count": 4,
   "metadata": {},
   "outputs": [
    {
     "data": {
      "text/plain": [
       "1"
      ]
     },
     "execution_count": 4,
     "metadata": {},
     "output_type": "execute_result"
    }
   ],
   "source": [
    "stack.head->data"
   ]
  },
  {
   "cell_type": "code",
   "execution_count": 5,
   "metadata": {},
   "outputs": [],
   "source": [
    "stack.push(3);"
   ]
  },
  {
   "cell_type": "code",
   "execution_count": 6,
   "metadata": {},
   "outputs": [],
   "source": [
    "stack.push(4);"
   ]
  },
  {
   "cell_type": "code",
   "execution_count": 7,
   "metadata": {},
   "outputs": [
    {
     "data": {
      "text/plain": [
       "3"
      ]
     },
     "execution_count": 7,
     "metadata": {},
     "output_type": "execute_result"
    }
   ],
   "source": [
    "stack.head->next->data"
   ]
  },
  {
   "cell_type": "code",
   "execution_count": 12,
   "metadata": {},
   "outputs": [
    {
     "name": "stdout",
     "output_type": "stream",
     "text": [
      "4\n",
      "3\n",
      "1\n"
     ]
    }
   ],
   "source": [
    "NodeS *ptr=stack.head;\n",
    "int n;\n",
    "while(ptr!=NULL){\n",
    "    n=ptr->data;\n",
    "    cout<<n<<endl;\n",
    "    ptr=ptr->next;\n",
    "}"
   ]
  },
  {
   "cell_type": "markdown",
   "metadata": {},
   "source": [
    "#### with doubly linked list"
   ]
  },
  {
   "cell_type": "code",
   "execution_count": 4,
   "metadata": {},
   "outputs": [],
   "source": [
    "class NodeSDL{\n",
    "    public:\n",
    "    int data;\n",
    "    NodeSDL *next;\n",
    "    NodeSDL *prev;\n",
    "    NodeSDL(int val){\n",
    "        data=val;\n",
    "        next=NULL;\n",
    "        prev=NULL;\n",
    "    }\n",
    "    \n",
    "    NodeSDL(){\n",
    "        next=NULL;\n",
    "        prev=NULL;\n",
    "    }\n",
    "};"
   ]
  },
  {
   "cell_type": "code",
   "execution_count": 5,
   "metadata": {},
   "outputs": [],
   "source": [
    "class StackDL{\n",
    "    public:\n",
    "    NodeSDL *head;\n",
    "    \n",
    "    StackDL(int val){\n",
    "        NodeSDL *pt=new NodeSDL(val);\n",
    "        head=pt;\n",
    "    }\n",
    "    \n",
    "    NodeSDL *push(int val){\n",
    "        NodeSDL *pt=new NodeSDL(val);\n",
    "        if(head==NULL){\n",
    "            head=pt;\n",
    "            return head;\n",
    "        }else{\n",
    "            pt->next=head;\n",
    "            head->prev=pt;\n",
    "            head=pt;\n",
    "            return head;\n",
    "        }\n",
    "    }\n",
    "    \n",
    "};"
   ]
  },
  {
   "cell_type": "code",
   "execution_count": 6,
   "metadata": {},
   "outputs": [],
   "source": [
    "NodeSDL stackDL(1);"
   ]
  },
  {
   "cell_type": "code",
   "execution_count": 7,
   "metadata": {},
   "outputs": [
    {
     "name": "stdout",
     "output_type": "stream",
     "text": [
      "1"
     ]
    }
   ],
   "source": [
    "cout<<stackDL.data;"
   ]
  },
  {
   "cell_type": "code",
   "execution_count": 8,
   "metadata": {},
   "outputs": [],
   "source": [
    "StackDL stck(1);"
   ]
  },
  {
   "cell_type": "code",
   "execution_count": 9,
   "metadata": {},
   "outputs": [
    {
     "data": {
      "text/plain": [
       "1"
      ]
     },
     "execution_count": 9,
     "metadata": {},
     "output_type": "execute_result"
    }
   ],
   "source": [
    "stck.head->data"
   ]
  },
  {
   "cell_type": "code",
   "execution_count": 10,
   "metadata": {},
   "outputs": [],
   "source": [
    "stck.push(2);\n",
    "stck.push(3);\n",
    "stck.push(4);"
   ]
  },
  {
   "cell_type": "code",
   "execution_count": 11,
   "metadata": {},
   "outputs": [
    {
     "data": {
      "text/plain": [
       "3"
      ]
     },
     "execution_count": 11,
     "metadata": {},
     "output_type": "execute_result"
    }
   ],
   "source": [
    "stck.head->next->data"
   ]
  },
  {
   "cell_type": "code",
   "execution_count": 12,
   "metadata": {},
   "outputs": [
    {
     "data": {
      "text/plain": [
       "2"
      ]
     },
     "execution_count": 12,
     "metadata": {},
     "output_type": "execute_result"
    }
   ],
   "source": [
    "stck.head->next->next->data"
   ]
  },
  {
   "cell_type": "code",
   "execution_count": 13,
   "metadata": {},
   "outputs": [
    {
     "name": "stdout",
     "output_type": "stream",
     "text": [
      "4\n",
      "3\n",
      "2\n",
      "1\n"
     ]
    }
   ],
   "source": [
    "NodeSDL *ptr=stck.head;\n",
    "while(ptr!=NULL){\n",
    "    cout<<ptr->data<<endl;\n",
    "    ptr=ptr->next;\n",
    "}"
   ]
  },
  {
   "cell_type": "code",
   "execution_count": 14,
   "metadata": {},
   "outputs": [
    {
     "name": "stdout",
     "output_type": "stream",
     "text": [
      "1\n",
      "2\n",
      "3\n",
      "4\n"
     ]
    }
   ],
   "source": [
    "//in reverse order\n",
    "ptr=stck.head;\n",
    "//gets to the bottom\n",
    "while(ptr->next!=NULL){\n",
    "    ptr=ptr->next;\n",
    "}\n",
    "//prints from bottom to the top\n",
    "while(ptr!=NULL){\n",
    "    cout<<ptr->data<<endl;\n",
    "    ptr=ptr->prev;\n",
    "}\n"
   ]
  },
  {
   "cell_type": "markdown",
   "metadata": {},
   "source": [
    "# Queue "
   ]
  },
  {
   "cell_type": "code",
   "execution_count": 15,
   "metadata": {},
   "outputs": [],
   "source": [
    "//use node class NodeSDL\n",
    "//implement push_back, pop_front\n",
    "class Queue{\n",
    "    public:\n",
    "    \n",
    "    NodeSDL *back;\n",
    "    NodeSDL *front;\n",
    "    \n",
    "    Queue(int val){\n",
    "        back=new NodeSDL(val);\n",
    "        front=back;\n",
    "    }\n",
    "    \n",
    "    NodeSDL *push_back(int val){\n",
    "        //constructor set back to non-NULL\n",
    "        NodeSDL *pt;\n",
    "        pt=new NodeSDL(val);\n",
    "        pt->next=back;\n",
    "        back->prev=pt;\n",
    "        back=pt;\n",
    "        \n",
    "        return back;\n",
    "    }\n",
    "    \n",
    "    NodeSDL *pop_front(){\n",
    "        //constructor sets front=back\n",
    "        int n=front->data;\n",
    "        front=front->prev;\n",
    "        cout<<n<<endl;\n",
    "        \n",
    "        return front;\n",
    "    }\n",
    "    \n",
    "    void print(){\n",
    "        if(back==front){\n",
    "            cout<<back->data<<endl;\n",
    "        }else{\n",
    "            NodeSDL *pt;\n",
    "            pt=back;\n",
    "            while(pt->next!=NULL){\n",
    "                cout<<pt->data<<endl;\n",
    "                pt=pt->next;\n",
    "            }\n",
    "        }\n",
    "    }\n",
    "};"
   ]
  },
  {
   "cell_type": "code",
   "execution_count": 16,
   "metadata": {},
   "outputs": [],
   "source": [
    "Queue q(1);"
   ]
  },
  {
   "cell_type": "code",
   "execution_count": 17,
   "metadata": {},
   "outputs": [
    {
     "data": {
      "text/plain": [
       "1"
      ]
     },
     "execution_count": 17,
     "metadata": {},
     "output_type": "execute_result"
    }
   ],
   "source": [
    "q.back->data"
   ]
  },
  {
   "cell_type": "code",
   "execution_count": 18,
   "metadata": {},
   "outputs": [],
   "source": [
    "q.push_back(3);"
   ]
  },
  {
   "cell_type": "code",
   "execution_count": 19,
   "metadata": {},
   "outputs": [],
   "source": [
    "q.push_back(35);"
   ]
  },
  {
   "cell_type": "code",
   "execution_count": 20,
   "metadata": {},
   "outputs": [
    {
     "name": "stdout",
     "output_type": "stream",
     "text": [
      "35\n",
      "3\n"
     ]
    }
   ],
   "source": [
    "q.print()"
   ]
  },
  {
   "cell_type": "markdown",
   "metadata": {},
   "source": [
    "# Deque"
   ]
  },
  {
   "cell_type": "markdown",
   "metadata": {},
   "source": [
    "like a queue but one can push either at the back or at the front. So one can inherit the Queue class"
   ]
  },
  {
   "cell_type": "code",
   "execution_count": 21,
   "metadata": {},
   "outputs": [],
   "source": [
    "class Deque: public Queue{\n",
    "    public:\n",
    "    \n",
    "    Deque(int val):Queue(val){//call parametrize Queue constructor\n",
    "        \n",
    "    }\n",
    "    \n",
    "    NodeSDL *push_front(int val){\n",
    "        //Note: constructor creates non-null front pointer\n",
    "        NodeSDL *pt;\n",
    "        pt=new NodeSDL(val);\n",
    "        pt->prev=front;\n",
    "        front->next=pt;\n",
    "        front=pt;\n",
    "        \n",
    "        return front;\n",
    "    }\n",
    "    \n",
    "};"
   ]
  },
  {
   "cell_type": "code",
   "execution_count": 22,
   "metadata": {},
   "outputs": [],
   "source": [
    "Deque coisa(2);"
   ]
  },
  {
   "cell_type": "code",
   "execution_count": 23,
   "metadata": {},
   "outputs": [
    {
     "data": {
      "text/plain": [
       "2"
      ]
     },
     "execution_count": 23,
     "metadata": {},
     "output_type": "execute_result"
    }
   ],
   "source": [
    "coisa.back->data"
   ]
  },
  {
   "cell_type": "code",
   "execution_count": 24,
   "metadata": {},
   "outputs": [
    {
     "data": {
      "text/plain": [
       "2"
      ]
     },
     "execution_count": 24,
     "metadata": {},
     "output_type": "execute_result"
    }
   ],
   "source": [
    "coisa.front->data"
   ]
  },
  {
   "cell_type": "code",
   "execution_count": 25,
   "metadata": {},
   "outputs": [],
   "source": [
    "coisa.push_front(3);"
   ]
  },
  {
   "cell_type": "code",
   "execution_count": 26,
   "metadata": {},
   "outputs": [
    {
     "data": {
      "text/plain": [
       "3"
      ]
     },
     "execution_count": 26,
     "metadata": {},
     "output_type": "execute_result"
    }
   ],
   "source": [
    "coisa.front->data"
   ]
  },
  {
   "cell_type": "code",
   "execution_count": 27,
   "metadata": {},
   "outputs": [],
   "source": [
    "coisa.push_front(4);"
   ]
  },
  {
   "cell_type": "code",
   "execution_count": 28,
   "metadata": {},
   "outputs": [
    {
     "data": {
      "text/plain": [
       "4"
      ]
     },
     "execution_count": 28,
     "metadata": {},
     "output_type": "execute_result"
    }
   ],
   "source": [
    "coisa.front->data"
   ]
  },
  {
   "cell_type": "code",
   "execution_count": 30,
   "metadata": {},
   "outputs": [
    {
     "name": "stdout",
     "output_type": "stream",
     "text": [
      "4\n",
      "3\n",
      "2\n"
     ]
    }
   ],
   "source": [
    "NodeSDL *ptr2=coisa.front;\n",
    "while(ptr2!=NULL){\n",
    "    cout<<ptr2->data<<endl;\n",
    "    ptr2=ptr2->prev;\n",
    "}"
   ]
  },
  {
   "cell_type": "code",
   "execution_count": null,
   "metadata": {},
   "outputs": [],
   "source": []
  }
 ],
 "metadata": {
  "kernelspec": {
   "display_name": "C++11",
   "language": "C++11",
   "name": "xeus-cling-cpp11"
  },
  "language_info": {
   "codemirror_mode": "text/x-c++src",
   "file_extension": ".cpp",
   "mimetype": "text/x-c++src",
   "name": "c++",
   "version": "-std=c++11"
  }
 },
 "nbformat": 4,
 "nbformat_minor": 2
}
